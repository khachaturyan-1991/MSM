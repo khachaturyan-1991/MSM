{
 "cells": [
  {
   "cell_type": "markdown",
   "id": "6e20eac7-c9c5-4dbd-9807-03f95f6cbaa3",
   "metadata": {},
   "source": [
    "# Library"
   ]
  },
  {
   "cell_type": "code",
   "execution_count": 2,
   "id": "0560657f-7a93-4f00-a8a7-1b69d84cffae",
   "metadata": {},
   "outputs": [],
   "source": [
    "import time\n",
    "import sys\n",
    "from matplotlib import pyplot as plt\n",
    "import matplotlib.ticker as tck\n",
    "from matplotlib.ticker import ScalarFormatter\n",
    "import pandas as pd\n",
    "import numpy as np\n",
    "import math\n",
    "from scipy.interpolate import interp1d\n",
    "from scipy.stats import beta, skewnorm\n",
    "import os\n",
    "import seaborn as sns\n",
    "import datetime \n",
    "from scipy.stats import linregress\n",
    "import matplotlib.pyplot as plt\n",
    "from scipy.signal import savgol_filter\n",
    "import re\n",
    "import random\n",
    "from numpy.random import rand\n",
    "from scipy.optimize import fsolve\n",
    "import scipy\n",
    "from scipy import optimize\n",
    "from scipy.optimize import minimize\n",
    "from scipy import stats\n",
    "import scipy.integrate as integrate\n",
    "from hyperopt import hp, tpe,rand, fmin, Trials\n",
    "from hyperopt.hp import uniform as hpu\n",
    "markers = ['o', '3', '<', 'v', '^', '>', '1', '2', '4', '8', 's', 'p', 'P', '*', 'h', 'H', '+', 'x', 'X', 'D']\n",
    "line_styles = ['-', '--', '-.', ':', 'solid', 'dashed', 'dashdot', 'dotted','-', '--', '-.', ':', 'solid', 'dashed', 'dashdot', 'dotted']\n",
    "prop_cycle = plt.rcParams['axes.prop_cycle']\n",
    "colors = prop_cycle.by_key()['color']\n",
    "import warnings\n",
    "warnings.filterwarnings(\"ignore\")\n",
    "%matplotlib inline"
   ]
  },
  {
   "cell_type": "markdown",
   "id": "37a03715-031d-490e-9976-5a0cfc8191f6",
   "metadata": {},
   "source": [
    "# mainClass"
   ]
  },
  {
   "cell_type": "code",
   "execution_count": 2,
   "id": "4642fc84-1a2d-47f9-9049-632b1190781c",
   "metadata": {},
   "outputs": [
    {
     "data": {
      "text/plain": [
       "2.5066282746310002"
      ]
     },
     "execution_count": 2,
     "metadata": {},
     "output_type": "execute_result"
    }
   ],
   "source": [
    "np.sqrt(np.pi*2)"
   ]
  },
  {
   "cell_type": "code",
   "execution_count": null,
   "id": "934f9dc5-a39f-4a8d-802f-404f63ac5f63",
   "metadata": {},
   "outputs": [],
   "source": [
    "/ Berkeley FE model\n",
    "`include \"constants.vams\"\n",
    "`include \"disciplines.vams\"\n",
    "module bfe (n1, n2);\n",
    "inout n1, n2;\n",
    "electrical n1, n2;\n",
    "# parameter real A = 1.0e-10;   // m^2\n",
    "# parameter real Ps = 80.0;     // uC/cm^2\n",
    "# parameter real Va = 2.0;      // V\n",
    "# parameter real t0 = 1e-9;     // s\n",
    "# parameter real alpha = 3.0;\n",
    "# parameter real beta = 2.0;\n",
    "# parameter integer N = 100;    // Number of grains\n",
    "# parameter real sgm = 0.3;\n",
    "# parameter real eps = 250;\n",
    "# parameter real tfe = 1.5e-8;  // m\n",
    "# parameter real vbi = 0.0;  // V\n",
    "integer i;\n",
    "real An[1:1000], fn[1:1000], Anp[1:1000], dAnpt[1:1000], Anpt[1:1000],\n",
    "     eta[1:1000], tau[1:1000], tauo[1:1000], Stau[1:1000];\n",
    "# real dnm = 1.0 / (sgm*2.5066);\n",
    "# real explim = 100.0;\n",
    "# real Vlim = 0.1;\n",
    "# real Cfe = 8.854e-14*eps*A/tfe;\n",
    "real Vin, aVin, ex, Vsgn, t, to, P, As;\n",
    "analog begin\n",
    " @ (initial_step) begin\n",
    "#    for(i=1; i<=N; i=i+1) begin\n",
    "#      if (N > 1) begin\n",
    "#        eta[i] = 2.0 * (i - 1) / (N - 1) ;\n",
    "#        fn[i] = exp(-0.5*pow((eta[i]-1.0)/sgm,2.0)) * dnm;\n",
    "#      end else begin\n",
    "#        eta[i] = 1.0;\n",
    "#        fn[i] = 1.0;\n",
    "#      end\n",
    "#      Anp[i] = 0.0;\n",
    "#      An[i] = fn[i];\n",
    "#      dAnpt[i] = An[i];\n",
    "#      Anpt[i] = 0.0;\n",
    "#      tauo[i] = 0.0;\n",
    "#      Stau[i] = 0.0;\n",
    "#    end\n",
    "   Vsgn = 1.0;\n",
    "   to = 0.0;\n",
    " end\n",
    "\n",
    " Vin = V(n1,n2) + vbi;\n",
    " aVin = abs(Vin) + Vlim * exp(-abs(Vin) / Vlim);\n",
    " t = $abstime;\n",
    " if ((abs(Vin) > 1.0e-2) && (Vsgn * Vin < 0.0)) begin\n",
    "   Vsgn = -1.0 * Vsgn;\n",
    "   for (i=1; i<=N; i=i+1) begin\n",
    "     Stau[i] = 0.0;\n",
    "     dAnpt[i] = An[i] - Anp[i];\n",
    "     Anpt[i] = Anp[i];\n",
    "   end\n",
    " end\n",
    "\n",
    " for (i=1; i<=N; i=i+1) begin\n",
    "   ex = pow(eta[i]*Va/aVin,alpha);\n",
    "   if (ex < explim) begin\n",
    "     tau[i] = t0 * exp(ex);\n",
    "   end else begin\n",
    "     tau[i] = t0 * exp(explim);\n",
    "   end\n",
    "   Stau[i] = Stau[i] + 0.5*(1.0/tau[i]+1.0/tauo[i])*(t-to);\n",
    "   if (Vsgn > 0.0) begin\n",
    "     Anp[i] = An[i] - dAnpt[i] * exp(-pow(Stau[i],beta));\n",
    "   end else begin\n",
    "     Anp[i] = Anpt[i] * exp(-pow(Stau[i],beta));\n",
    "   end\n",
    " end\n",
    "\n",
    " to = t;\n",
    " As = 0.0;\n",
    " for (i=1; i<=N; i=i+1) begin\n",
    "   As = As + Anp[i];\n",
    "   tauo[i] = tau[i];\n",
    " end\n",
    " P = 0.01 * Ps * A * (2.0 * As / N - 1.0);\n",
    " I(n1,n2) <+ ddt(P) + Cfe*ddt(Vin);\n",
    " // $strobe(\"\\n QF %e %e %e\\n\", $abstime, Vin, 100*P/A);\n",
    "end\n",
    "endmodule"
   ]
  },
  {
   "cell_type": "markdown",
   "id": "8fc7ff43-43d2-4e02-9b97-7256c7dacd76",
   "metadata": {},
   "source": [
    "# am here"
   ]
  },
  {
   "cell_type": "code",
   "execution_count": 7,
   "id": "0a6d5d4e-cc43-42e6-b683-005a1e10c8a4",
   "metadata": {},
   "outputs": [],
   "source": [
    "A = 1.0e-10;   # m^2\n",
    "Ps = 80.0;     # uC/cm^2\n",
    "Va = 2.0;      # V\n",
    "t0 = 1e-9;     # s\n",
    "alpha = 3.0;\n",
    "beta = 2.0;\n",
    "N = 100;    # Number of grains\n",
    "sgm = 0.3;\n",
    "eps = 250;\n",
    "tfe = 1.5e-8;  # m\n",
    "vbi = 0.0;  # V\n",
    "dnm = 1.0 / (sgm*np.sqrt(np.pi*2))\n",
    "explim = 100.0;\n",
    "Vlim = 0.1\n",
    "Cfe = 8.854e-14*eps*A/tfe;"
   ]
  },
  {
   "cell_type": "code",
   "execution_count": null,
   "id": "80aab4eb-ca26-401d-92b5-7985f0a88214",
   "metadata": {},
   "outputs": [],
   "source": [
    "eta={}\n",
    "if N>1:\n",
    "    for i in range(N)\n",
    "        eta[i] = 2.0 * (i - 1) / (N - 1) ;\n",
    "        fn[i] = exp(-0.5*pow((eta[i]-1.0)/sgm,2.0)) * dnm;\n",
    "\n",
    "        Anp[i] = 0.0;\n",
    "        An[i] = fn[i];\n",
    "        dAnpt[i] = An[i];\n",
    "        Anpt[i] = 0.0;\n",
    "        tauo[i] = 0.0;\n",
    "        Stau[i] = 0.0;\n",
    "\n",
    "else:\n",
    "    eta[i] = 1.0\n",
    "    fn[i] = 1.0\n",
    "    Anp[i] = 0.0;\n",
    "    An[i] = fn[i];\n",
    "    dAnpt[i] = An[i];\n",
    "    Anpt[i] = 0.0;\n",
    "    tauo[i] = 0.0;\n",
    "    Stau[i] = 0.0;"
   ]
  },
  {
   "cell_type": "code",
   "execution_count": null,
   "id": "13ee50e8-e390-445a-be71-f53a0bda5dad",
   "metadata": {},
   "outputs": [],
   "source": [
    "Vsamll = 1e-6\n",
    "while (DVr<Vsmall):\n",
    "    Ip=dP/dt\n",
    "    f = Ip-Vr/R\n",
    "    dfdVr = dIp/dVr - 1/R\n",
    "    DVr=-f/dfdVr\n",
    "    Vr = Vr+DVr"
   ]
  },
  {
   "cell_type": "code",
   "execution_count": 8,
   "id": "d1611b6d-990d-44e5-bbee-2061bccf5aae",
   "metadata": {},
   "outputs": [
    {
     "data": {
      "text/plain": [
       "<AxesSubplot:ylabel='Density'>"
      ]
     },
     "execution_count": 8,
     "metadata": {},
     "output_type": "execute_result"
    },
    {
     "data": {
      "image/png": "[encoded data removed]",
      "text/plain": [
       "<Figure size 432x288 with 1 Axes>"
      ]
     },
     "metadata": {
      "needs_background": "light"
     },
     "output_type": "display_data"
    }
   ],
   "source": [
    "sgm, mean = 0.5, 0\n",
    "a = [1/sgm/np.sqrt(2*np.pi)*np.exp(-0.5*((i-mean)/sgm)**2) for i in np.linspace(-5,5, 100)]\n",
    "sns.distplot(a)"
   ]
  },
  {
   "cell_type": "code",
   "execution_count": 40,
   "id": "e44eadf8-d72b-44d7-9b9b-d16a3e43d61d",
   "metadata": {},
   "outputs": [
    {
     "data": {
      "text/plain": [
       "0.9999790178083956"
      ]
     },
     "execution_count": 40,
     "metadata": {},
     "output_type": "execute_result"
    }
   ],
   "source": [
    "mean, sgm = 2.5, 1.1\n",
    "x = np.linspace(-2,10,1000)\n",
    "dx = x[1]-x[0]\n",
    "sum(y(x))*dx"
   ]
  },
  {
   "cell_type": "code",
   "execution_count": 47,
   "id": "ff7114b2-9ce0-41e7-a727-cdd4f2c7e175",
   "metadata": {},
   "outputs": [
    {
     "data": {
      "text/plain": [
       "[<matplotlib.lines.Line2D at 0x7f9f880de820>]"
      ]
     },
     "execution_count": 47,
     "metadata": {},
     "output_type": "execute_result"
    },
    {
     "data": {
      "image/png": "[encoded data removed]",
      "text/plain": [
       "<Figure size 432x288 with 1 Axes>"
      ]
     },
     "metadata": {
      "needs_background": "light"
     },
     "output_type": "display_data"
    }
   ],
   "source": [
    "x = np.linspace(0,10,1000)\n",
    "mean, sgm = 2.5, 1.1\n",
    "y = lambda x: 1/sgm/np.sqrt(2*np.pi)*np.exp(-0.5*((x-mean)/sgm)**2)\n",
    "plt.plot(x,y(abs(x)))"
   ]
  },
  {
   "cell_type": "code",
   "execution_count": 46,
   "id": "ac90ae10-3897-40df-bd86-1d7fe2dc7bb8",
   "metadata": {},
   "outputs": [
    {
     "data": {
      "text/plain": [
       "<AxesSubplot:ylabel='Density'>"
      ]
     },
     "execution_count": 46,
     "metadata": {},
     "output_type": "execute_result"
    },
    {
     "data": {
      "image/png": "[encoded data removed]",
      "text/plain": [
       "<Figure size 432x288 with 1 Axes>"
      ]
     },
     "metadata": {
      "needs_background": "light"
     },
     "output_type": "display_data"
    }
   ],
   "source": [
    "sns.distplot([y(x) for x in np.linspace(0,5,100)])"
   ]
  },
  {
   "cell_type": "code",
   "execution_count": null,
   "id": "26889da6-64ac-408c-aba9-06a8030deb90",
   "metadata": {},
   "outputs": [],
   "source": []
  }
 ],
 "metadata": {
  "kernelspec": {
   "display_name": "Python 3",
   "language": "python",
   "name": "python3"
  },
  "language_info": {
   "codemirror_mode": {
    "name": "ipython",
    "version": 3
   },
   "file_extension": ".py",
   "mimetype": "text/x-python",
   "name": "python",
   "nbconvert_exporter": "python",
   "pygments_lexer": "ipython3",
   "version": "3.8.8"
  }
 },
 "nbformat": 4,
 "nbformat_minor": 5
}
